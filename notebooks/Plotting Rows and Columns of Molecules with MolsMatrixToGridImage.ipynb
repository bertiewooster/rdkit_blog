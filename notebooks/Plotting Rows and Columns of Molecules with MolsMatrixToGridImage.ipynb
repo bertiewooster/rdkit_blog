{
 "cells": [
  {
   "cell_type": "markdown",
   "metadata": {},
   "source": [
    "# Plotting rows and columns of molecules with MolsMatrixToGridImage"
   ]
  },
  {
   "cell_type": "markdown",
   "metadata": {},
   "source": [
    "## Comparing MolsMatrixToGridImage vs. MolsToGridImage\n",
    "\n",
    "`[MolsMatrixToGridImage()]()`, new in RDKit 2023.09.1, is designed to easily plot a rectangular grid of molecules, that is rows and columns of molecules. `MolsMatrixToGridImage()` builds upon `[MolsToGridImage()]()`. In fact, `MolsMatrixToGridImage()` internally calls `MolsToGridImage()`, so they can output the same images and formats.\n",
    "\n",
    "The difference is that `MolsMatrixToGridImage()` creates a rectangular row-and-column format by using nested input data structures. Each data substructure represents a row of molecules. `MolsMatrixToGridImage()` automatically pads rows as needed so all rows are the length of the longest row. So you can easily plot molecules in a matrix without having to think about the length of each row.\n",
    "\n",
    "As a minimal example, if we want to plot a single interhalogen molecule at various cells in a grid, for example to represent a spatial arrangement:"
   ]
  },
  {
   "cell_type": "code",
   "execution_count": 16,
   "metadata": {},
   "outputs": [],
   "source": [
    "from rdkit.Chem.Draw import IPythonConsole\n",
    "from rdkit import Chem\n",
    "from rdkit.Chem.Draw import MolsToGridImage, rdMolDraw2D # , MolsMatrixToGridImage"
   ]
  },
  {
   "cell_type": "code",
   "execution_count": 17,
   "metadata": {},
   "outputs": [],
   "source": [
    "FCl = Chem.MolFromSmiles(\"FCl\")"
   ]
  },
  {
   "cell_type": "markdown",
   "metadata": {},
   "source": [
    "both of the following produce the same grid image:"
   ]
  },
  {
   "cell_type": "code",
   "execution_count": 18,
   "metadata": {},
   "outputs": [
    {
     "data": {
      "image/png": "[encoded data removed]",
      "text/plain": [
       "<IPython.core.display.Image object>"
      ]
     },
     "execution_count": 18,
     "metadata": {},
     "output_type": "execute_result"
    }
   ],
   "source": [
    "mols = [FCl, FCl, None, FCl, None, FCl]\n",
    "MolsToGridImage(mols=mols, molsPerRow=3)"
   ]
  },
  {
   "cell_type": "markdown",
   "metadata": {},
   "source": [
    "(where we had to add the first `None` (null molecule) item to produce the empty cell at the end of the first row)"
   ]
  },
  {
   "cell_type": "code",
   "execution_count": 19,
   "metadata": {},
   "outputs": [],
   "source": [
    "molsMatrix = [[FCl, FCl], [FCl, None, FCl]]\n",
    "# imgMatrix = MolsMatrixToGridImage(molsMatrix=molsMatrix)"
   ]
  },
  {
   "cell_type": "markdown",
   "metadata": {},
   "source": [
    "The only parameter we must provide to `MolsMatrixToGridImage()` is `molsMatrix`.\n",
    "\n",
    "The advantage of `MolsMatrixToGridImage()` is that you need not manually pad shorter (narrower) rows, and you can provide molecules in a nested format that explicitly identifies each row.\n",
    "\n",
    "While we the nested data structure we used above for `MolsMatrixToGridImage()` is a list of lists, you can use any iterables, for example a tuple of tuples, or a list of tuples, etc."
   ]
  },
  {
   "cell_type": "markdown",
   "metadata": {},
   "source": [
    "### When to use MolsToGridImage vs. MolsMatrixToGridImage\n",
    "\n",
    "Use `MolsToGridImage()` if you want to plot a series of molecules in a space-efficient manner where the row that each molecule is on is not important.\n",
    "\n",
    "Use `MolsMatrixToGridImage()` if you want each row of molecules to represent something meaningful, and especially if the number of molecules per row can vary. The columns may or may not have meaning: You could plot an uninterrupted series of molecules in a row in no particular order, or you could assign molecules to columns based on some property--for example, a column may represent a spatial location.\n",
    "\n",
    "A borderline situation is if each row will have the same number of molecules `n` (`n` = 2 below): you can create the same grid using either\n",
    "- `MolsToGridImage(molsPerRow=n)`, for example `MolsToGridImage([mol1a, mol1b, mol2a, mol2b, mol3a, mol3b], molsPerRow=2)`.\n",
    "- `MolsMatrixToGridImage()` with `n` molecules in each row, for example `MolsMatrixToGridImage([[mol1a, mol1b], [mol2a, mol2b], [mol3a, mol3b]])`. You may find this format easier to use because each row is in its own sub-list. Also, you need not explicitly declare the number of molecules per row, so if you later change that number `n`, or have different numbers of molecules on the rows, the grid will automatically adjust accordingly."
   ]
  },
  {
   "cell_type": "markdown",
   "metadata": {},
   "source": [
    "## Nested data structures for per-molecule parameters\n",
    "\n",
    "`MolsMatrixToGridImage()` nests data structures one additional level beyond the analogous parameter in `MolsToGridImage`. The following table compares those parameters for the two functions, where the parameters would produce the same output for their respective functions."
   ]
  },
  {
   "cell_type": "markdown",
   "metadata": {},
   "source": [
    "| `MolsToGridImage()`<br>_`MolsMatrixToGridImage()`_ | Name                 | Structure                                  | Example                                                              |\n",
    "|------------------------------------------------|----------------------|--------------------------------------------|----------------------------------------------------------------------|\n",
    "| Molecules                                      | mols<br>_molsMatrix_ | Iterable[mol]<br>_Iterable[Iterable[mol]]_ | [FCl, FCl, None, FCl, None, FCl]<br>_[[FCl, FCl], [FCl, None, FCl]]_ |\n",
    "| Legends                                        |                      |                                            |                                                                      |\n",
    "| Highlight atoms                                |                      |                                            |                                                                      |\n",
    "| Highlight bonds                                |                      |                                            |                                                                      |"
   ]
  },
  {
   "cell_type": "markdown",
   "metadata": {},
   "source": [
    "| `MolsToGridImage()`<br>`MolsMatrixToGridImage()` | Name               | Structure                                | Example                                                            |\n",
    "|--------------------------------------------------|--------------------|------------------------------------------|--------------------------------------------------------------------|\n",
    "| Molecules                                        | mols<br>molsMatrix | Iterable[mol]<br>Iterable[Iterable[mol]] | [FCl, FCl, None, FCl, None, FCl]<br>[[FCl, FCl], [FCl, None, FCl]] |\n",
    "| Legends                                          |                    |                                          |                                                                    |\n",
    "| Highlight atoms                                  |                    |                                          |                                                                    |\n",
    "| Highlight bonds                                  |                    |                                          |                                                                    |"
   ]
  },
  {
   "cell_type": "markdown",
   "metadata": {},
   "source": [
    "| `MolsToGridImage()`<br>`MolsMatrixToGridImage()` | Parameter name     | Structure                                | Example                                                            |\n",
    "|--------------------------------------------------|--------------------|------------------------------------------|--------------------------------------------------------------------|\n",
    "| Molecules                                        | mols<br>molsMatrix | Iterable[mol]<br>Iterable[Iterable[mol]] | [FCl, FCl, None, FCl, None, FCl]<br>[[FCl, FCl], [FCl, None, FCl]] |\n",
    "| Legends                                          |                    |                                          |                                                                    |\n",
    "| Highlight atoms                                  |                    |                                          |                                                                    |\n",
    "| Highlight bonds                                  |                    |                                          |                                                                    |"
   ]
  },
  {
   "cell_type": "markdown",
   "metadata": {},
   "source": [
    "| `MolsToGridImage()`<br>`MolsMatrixToGridImage()` | Values mean                   | Parameter name                                 | Structure                                                   | Example                                                                                                                                                                                    |\n",
    "|--------------------------------------------------|-------------------------------|------------------------------------------------|-------------------------------------------------------------|--------------------------------------------------------------------------------------------------------------------------------------------------------------------------------------------|\n",
    "| Molecules                                        | RDKit molecule                | mols<br>molsMatrix                             | Iterable[mol]<br>Iterable[Iterable[mol]]                    | [FCl, FCl, None, FCl, None, FCl]<br>[[FCl, FCl], [FCl, None, FCl]]                                                                                                                         |\n",
    "| Legends                                          | Legend text                   | legends<br>legendsMatrix                       | Iterable[str]<br>Iterable[Iterable[str]]                    | [\"no highlighting\", \"bond highlighted\", \"\", \"F highlighted\", \"\", \"Cl and bond highlighted\"]<br>[[\"no highlighting\", \"bond highlighted\"], [\"F highlighted\", \"\", \"Cl and bond highlighted\"]] |\n",
    "| Highlight atoms                                  | Indices of atoms to highlight | highlightAtomLists<br>highlightAtomListsMatrix | Iterable[Iterable[int]]<br>Iterable[Iterable[Iterable[Int]] | [[],[], None, [0], None, [1]]<br>[[[],[]], [[0], None, [1]]]                                                                                                                               |\n",
    "| Highlight bonds                                  | Indices of bonds to highlight | highlightBondLists<br>highlightBondListsMatrix | Iterable[Iterable[int]]<br>Iterable[Iterable[Iterable[Int]] | [[],[0], None, [], None, [0]]<br>[[[],[0]], [[], None, [0]]]                                                                                                                               |"
   ]
  },
  {
   "cell_type": "markdown",
   "metadata": {},
   "source": [
    "### Requirements for agreement of dimensions of per-molecule parameters\n",
    "\n",
    "`molsMatrix` sets the dimensions, and any other supplied Matrix (per-molecule) parameters must match those dimensions. In the example above, `molsMatrix` has two rows (sub-lists), so `legendsMatrix`, `highlightAtomListsMatrix`, and `highlightBondListsMatrix` (if supplied) must also have two rows. Also, because the first row (sub-list) of `molsMatrix` has two columns (elements), that must true for those three other parameters. And because the second row (sub-list) of `molsMatrix` has three columns (elements), that must true for those three other parameters."
   ]
  },
  {
   "cell_type": "markdown",
   "metadata": {},
   "source": [
    "## Exhaustive example\n",
    "\n",
    "Here is an example of supplying all parameters to `MolsMatrixToGridImage()`."
   ]
  },
  {
   "cell_type": "code",
   "execution_count": 20,
   "metadata": {},
   "outputs": [],
   "source": [
    "legendsMatrix = [[\"no highlighting\", \"bond highlighted\"], [\"F highlighted\", None, \"Cl and bond highlighted\"]]\n",
    "highlightAtomListsMatrix = [[[],[]], [[0], None, [1]]]\n",
    "highlightBondListsMatrix = [[[],[0]], [[], None, [0]]]\n",
    "\n",
    "dopts = rdMolDraw2D.MolDrawOptions()\n",
    "dopts.addAtomIndices = True\n",
    "\n",
    "# img_binary = MolsMatrixToGridImage(molsMatrix=molsMatrix, subImgSize=(100, 100), legendsMatrix=legendsMatrix, highlightAtomListsMatrix=highlightAtomListsMatrix, highlightBondListsMatrix=highlightBondListsMatrix, useSVG=False, returnPNG=False, drawOptions=dopts)"
   ]
  },
  {
   "cell_type": "markdown",
   "metadata": {},
   "source": [
    "Here is the same image created using `MolsToGridImage()`:"
   ]
  },
  {
   "cell_type": "code",
   "execution_count": 30,
   "metadata": {},
   "outputs": [
    {
     "data": {
      "image/png": "[encoded data removed]",
      "text/plain": [
       "<PIL.PngImagePlugin.PngImageFile image mode=RGB size=600x300>"
      ]
     },
     "execution_count": 30,
     "metadata": {},
     "output_type": "execute_result"
    }
   ],
   "source": [
    "legends = [\"no highlighting\", \"bond highlighted\", \"\", \"F highlighted\", \"\", \"Cl and bond highlighted\"]\n",
    "highlightAtomLists = [[],[], None, [0], None, [1]]\n",
    "highlightBondLists = [[],[0], None, [], None, [0]]\n",
    "\n",
    "MolsToGridImage(mols, molsPerRow=3, subImgSize=(200, 150), legends=legends, highlightAtomLists=highlightAtomLists, highlightBondLists=highlightBondLists, useSVG=False, returnPNG=False, drawOptions=dopts)"
   ]
  },
  {
   "cell_type": "markdown",
   "metadata": {},
   "source": [
    "Note that, unlike `MolsToGridImage()`, `MolsMatrixToGridImage()` does not take a `molsPerRow` parameter because `MolsMatrixToGridImage()` automatically sets the number of molecules per row to the length of the longest row in `molsMatrix`. Other than that, and the more-nested structure of per-molecule parameters, `MolsMatrixToGridImage()` can accept all the same parameters as `MolsToGridImage()`: `useSVG`, `returnPNG`, and `**kwargs` such as `drawOptions`. Indeed, `MolsMatrixToGridImage()` will simply pass those parameters to `MolsToGridImage()`."
   ]
  },
  {
   "cell_type": "markdown",
   "metadata": {},
   "source": [
    "## Use cases\n",
    "\n",
    "***Ones from my blog: Synthetic accessibility, Mass spec fragmentation tree, MCS and groups off it, retrosynthetic analysis, possibly isotope decay chain (if RDKit can show atomic mass and number to the upper and lower, respectively, left of atoms; and perhaps arrows)"
   ]
  },
  {
   "cell_type": "markdown",
   "metadata": {},
   "source": [
    "In some cases, each column may have a defined meaning, for example spatial location. In other cases, the columns may be used to space out molecules; for example in the mass spectrometry fragmentation tree, the columns allow horizontal space for each subtree to avoid colliding with an adjacent subtree."
   ]
  },
  {
   "cell_type": "markdown",
   "metadata": {},
   "source": [
    "## "
   ]
  }
 ],
 "metadata": {
  "kernelspec": {
   "display_name": "my-rdkit-env",
   "language": "python",
   "name": "python3"
  },
  "language_info": {
   "codemirror_mode": {
    "name": "ipython",
    "version": 3
   },
   "file_extension": ".py",
   "mimetype": "text/x-python",
   "name": "python",
   "nbconvert_exporter": "python",
   "pygments_lexer": "ipython3",
   "version": "3.11.3"
  },
  "orig_nbformat": 4
 },
 "nbformat": 4,
 "nbformat_minor": 2
}
