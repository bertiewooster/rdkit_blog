{
 "cells": [
  {
   "cell_type": "code",
   "execution_count": 1,
   "metadata": {},
   "outputs": [
    {
     "name": "stdout",
     "output_type": "stream",
     "text": [
      "2018.09.3\n",
      "Fri Nov  8 12:18:50 2019\n"
     ]
    }
   ],
   "source": [
    "from rdkit import Chem\n",
    "from rdkit.Chem import Draw\n",
    "from rdkit.Chem.Draw import rdMolDraw2D\n",
    "from IPython.display import SVG\n",
    "from rdkit.Chem.Draw import IPythonConsole\n",
    "import rdkit\n",
    "import time\n",
    "print(rdkit.__version__)\n",
    "print(time.asctime())"
   ]
  },
  {
   "cell_type": "code",
   "execution_count": 2,
   "metadata": {},
   "outputs": [],
   "source": [
    "import ipywidgets as widgets\n",
    "from traitlets import Unicode, Int, validate\n",
    "class MolSVGWidget(widgets.DOMWidget):\n",
    "    _view_name = Unicode('MolSVGView').tag(sync=True)\n",
    "    _view_module = Unicode('molsvg_widget').tag(sync=True)\n",
    "    _view_module_version = Unicode('0.0.1').tag(sync=True)\n",
    "    \n",
    "    svg = Unicode('', help=\"svg to be rendered\").tag(sync=True)\n",
    "    selected_atoms = Unicode('', help=\"list of currently selected atoms\").tag(sync=True)"
   ]
  },
  {
   "cell_type": "code",
   "execution_count": 3,
   "metadata": {},
   "outputs": [
    {
     "data": {
      "application/javascript": [
       "// make sure our module is only defined\n",
       "// only once.\n",
       "require.undef('molsvg_widget');\n",
       "\n",
       "// Define the `molsvg_widget` module using the Jupyter widgets framework.\n",
       "define('molsvg_widget', [\"@jupyter-widgets/base\"],\n",
       "       function(widgets) {\n",
       "\n",
       "    // The frontend class:\n",
       "    var MolSVGView = widgets.DOMWidgetView.extend({\n",
       "\n",
       "        // This method creates the HTML widget.\n",
       "        render: function() {\n",
       "            this.svg_div = document.createElement('div');\n",
       "            this.el.appendChild(this.svg_div);\n",
       "            this.model.on('change:svg', this.svg_changed, this);\n",
       "            this.svg_changed();\n",
       "        },\n",
       "        \n",
       "        // called when the SVG is updated on the Python side\n",
       "        svg_changed: function() {\n",
       "            var txt = this.model.get('svg'); \n",
       "            this.svg_div.innerHTML = txt;\n",
       "            var sels = this.svg_div.getElementsByClassName(\"atom-selector\");\n",
       "            for(var i=0;i<sels.length;i++){\n",
       "                sels[i].onclick = (evt) => { return this.atom_clicked(evt) };\n",
       "            }\n",
       "            \n",
       "        },\n",
       "\n",
       "        // callback for when an atom is clicked\n",
       "        atom_clicked: function(evt) {\n",
       "            //alert(\"  \"+evt+\"|\"+this);\n",
       "            if(!evt.currentTarget.getAttribute('class')){\n",
       "                return;\n",
       "            }\n",
       "            var satmid = evt.currentTarget.getAttribute('class').match(/atom-([0-9]+)/);\n",
       "            if(satmid.length >1){\n",
       "                var atmid = Number(satmid[1]);\n",
       "                var curSel = this.model.get('selected_atoms');\n",
       "                var splitSel = curSel.split(',');\n",
       "                var selItms = [];\n",
       "                var idx = -1;\n",
       "                //alert(\"|\"+atmid+\"|\"+curSel+\"|len: \"+splitSel.length);\n",
       "                if(curSel != \"\" && splitSel.length>0){\n",
       "                    selItms = Array.from(splitSel).map(item => Number(item));\n",
       "                    idx = selItms.indexOf(atmid);\n",
       "                }\n",
       "                if(idx == -1){\n",
       "                    selItms = selItms.concat(atmid);\n",
       "                    evt.currentTarget.style[\"stroke-width\"]=3;\n",
       "                    evt.currentTarget.style[\"stroke-opacity\"]=1;\n",
       "                    evt.currentTarget.style[\"stroke\"]='#AA22FF';\n",
       "                } else {\n",
       "                    selItms.splice(idx,1);\n",
       "                    evt.currentTarget.style[\"stroke-width\"]=1;\n",
       "                    evt.currentTarget.style[\"stroke-opacity\"]=0;\n",
       "                    evt.currentTarget.style[\"stroke\"]='#FFFFFF';\n",
       "                }\n",
       "                this.model.set('selected_atoms',String(selItms));\n",
       "                this.touch();\n",
       "            }\n",
       "        }\n",
       "\n",
       "    });\n",
       "\n",
       "    return {\n",
       "        MolSVGView : MolSVGView\n",
       "    };\n",
       "});\n"
      ],
      "text/plain": [
       "<IPython.core.display.Javascript object>"
      ]
     },
     "metadata": {},
     "output_type": "display_data"
    }
   ],
   "source": [
    "%%javascript\n",
    "// make sure our module is only defined\n",
    "// only once.\n",
    "require.undef('molsvg_widget');\n",
    "\n",
    "// Define the `molsvg_widget` module using the Jupyter widgets framework.\n",
    "define('molsvg_widget', [\"@jupyter-widgets/base\"],\n",
    "       function(widgets) {\n",
    "\n",
    "    // The frontend class:\n",
    "    var MolSVGView = widgets.DOMWidgetView.extend({\n",
    "\n",
    "        // This method creates the HTML widget.\n",
    "        render: function() {\n",
    "            this.svg_div = document.createElement('div');\n",
    "            this.el.appendChild(this.svg_div);\n",
    "            this.model.on('change:svg', this.svg_changed, this);\n",
    "            this.svg_changed();\n",
    "        },\n",
    "        \n",
    "        // called when the SVG is updated on the Python side\n",
    "        svg_changed: function() {\n",
    "            var txt = this.model.get('svg'); \n",
    "            this.svg_div.innerHTML = txt;\n",
    "            var sels = this.svg_div.getElementsByClassName(\"atom-selector\");\n",
    "            for(var i=0;i<sels.length;i++){\n",
    "                sels[i].onclick = (evt) => { return this.atom_clicked(evt) };\n",
    "            }\n",
    "            \n",
    "        },\n",
    "\n",
    "        // callback for when an atom is clicked\n",
    "        atom_clicked: function(evt) {\n",
    "            //alert(\"  \"+evt+\"|\"+this);\n",
    "            if(!evt.currentTarget.getAttribute('class')){\n",
    "                return;\n",
    "            }\n",
    "            var satmid = evt.currentTarget.getAttribute('class').match(/atom-([0-9]+)/);\n",
    "            if(satmid.length >1){\n",
    "                var atmid = Number(satmid[1]);\n",
    "                var curSel = this.model.get('selected_atoms');\n",
    "                var splitSel = curSel.split(',');\n",
    "                var selItms = [];\n",
    "                var idx = -1;\n",
    "                //alert(\"|\"+atmid+\"|\"+curSel+\"|len: \"+splitSel.length);\n",
    "                if(curSel != \"\" && splitSel.length>0){\n",
    "                    selItms = Array.from(splitSel).map(item => Number(item));\n",
    "                    idx = selItms.indexOf(atmid);\n",
    "                }\n",
    "                if(idx == -1){\n",
    "                    selItms = selItms.concat(atmid);\n",
    "                    evt.currentTarget.style[\"stroke-width\"]=3;\n",
    "                    evt.currentTarget.style[\"stroke-opacity\"]=1;\n",
    "                    evt.currentTarget.style[\"stroke\"]='#AA22FF';\n",
    "                } else {\n",
    "                    selItms.splice(idx,1);\n",
    "                    evt.currentTarget.style[\"stroke-width\"]=1;\n",
    "                    evt.currentTarget.style[\"stroke-opacity\"]=0;\n",
    "                    evt.currentTarget.style[\"stroke\"]='#FFFFFF';\n",
    "                }\n",
    "                this.model.set('selected_atoms',String(selItms));\n",
    "                this.touch();\n",
    "            }\n",
    "        }\n",
    "\n",
    "    });\n",
    "\n",
    "    return {\n",
    "        MolSVGView : MolSVGView\n",
    "    };\n",
    "});"
   ]
  },
  {
   "cell_type": "code",
   "execution_count": 6,
   "metadata": {},
   "outputs": [
    {
     "data": {
      "text/plain": [
       "'2018.09.3'"
      ]
     },
     "execution_count": 6,
     "metadata": {},
     "output_type": "execute_result"
    }
   ],
   "source": [
    "import rdkit\n",
    "rdkit.__version__"
   ]
  },
  {
   "cell_type": "code",
   "execution_count": 4,
   "metadata": {},
   "outputs": [
    {
     "ename": "AttributeError",
     "evalue": "'MolDraw2DSVG' object has no attribute 'TagAtoms'",
     "output_type": "error",
     "traceback": [
      "\u001b[1;31m---------------------------------------------------------------------------\u001b[0m",
      "\u001b[1;31mAttributeError\u001b[0m                            Traceback (most recent call last)",
      "\u001b[1;32m<ipython-input-4-f6b660c3c788>\u001b[0m in \u001b[0;36m<module>\u001b[1;34m\u001b[0m\n\u001b[0;32m      3\u001b[0m \u001b[0mdm\u001b[0m \u001b[1;33m=\u001b[0m \u001b[0mDraw\u001b[0m\u001b[1;33m.\u001b[0m\u001b[0mPrepareMolForDrawing\u001b[0m\u001b[1;33m(\u001b[0m\u001b[0mm\u001b[0m\u001b[1;33m)\u001b[0m\u001b[1;33m\u001b[0m\u001b[1;33m\u001b[0m\u001b[0m\n\u001b[0;32m      4\u001b[0m \u001b[0md\u001b[0m\u001b[1;33m.\u001b[0m\u001b[0mDrawMolecule\u001b[0m\u001b[1;33m(\u001b[0m\u001b[0mdm\u001b[0m\u001b[1;33m)\u001b[0m\u001b[1;33m\u001b[0m\u001b[1;33m\u001b[0m\u001b[0m\n\u001b[1;32m----> 5\u001b[1;33m \u001b[0md\u001b[0m\u001b[1;33m.\u001b[0m\u001b[0mTagAtoms\u001b[0m\u001b[1;33m(\u001b[0m\u001b[0mdm\u001b[0m\u001b[1;33m)\u001b[0m\u001b[1;33m\u001b[0m\u001b[1;33m\u001b[0m\u001b[0m\n\u001b[0m\u001b[0;32m      6\u001b[0m \u001b[0md\u001b[0m\u001b[1;33m.\u001b[0m\u001b[0mFinishDrawing\u001b[0m\u001b[1;33m(\u001b[0m\u001b[1;33m)\u001b[0m\u001b[1;33m\u001b[0m\u001b[1;33m\u001b[0m\u001b[0m\n\u001b[0;32m      7\u001b[0m \u001b[0msvg\u001b[0m \u001b[1;33m=\u001b[0m \u001b[0md\u001b[0m\u001b[1;33m.\u001b[0m\u001b[0mGetDrawingText\u001b[0m\u001b[1;33m(\u001b[0m\u001b[1;33m)\u001b[0m\u001b[1;33m\u001b[0m\u001b[1;33m\u001b[0m\u001b[0m\n",
      "\u001b[1;31mAttributeError\u001b[0m: 'MolDraw2DSVG' object has no attribute 'TagAtoms'"
     ]
    }
   ],
   "source": [
    "m = Chem.MolFromSmiles('C1OCC1N')\n",
    "d = rdMolDraw2D.MolDraw2DSVG(200,150)\n",
    "dm = Draw.PrepareMolForDrawing(m)\n",
    "d.DrawMolecule(dm)\n",
    "d.FinishDrawing()\n",
    "svg = d.GetDrawingText()\n",
    "w = MolSVGWidget(svg=svg)\n",
    "w"
   ]
  },
  {
   "cell_type": "code",
   "execution_count": 60,
   "metadata": {},
   "outputs": [
    {
     "data": {
      "text/plain": [
       "'8,17,12'"
      ]
     },
     "execution_count": 60,
     "metadata": {},
     "output_type": "execute_result"
    }
   ],
   "source": [
    "w.selected_atoms"
   ]
  },
  {
   "cell_type": "code",
   "execution_count": 59,
   "metadata": {},
   "outputs": [],
   "source": [
    "esomprazole = Chem.MolFromSmiles('COc1ccc2[nH]c([S@@+]([O-])Cc3ncc(C)c(OC)c3C)nc2c1')\n",
    "d = rdMolDraw2D.MolDraw2DSVG(200,150)\n",
    "dm = Draw.PrepareMolForDrawing(esomprazole)\n",
    "d.DrawMolecule(dm)\n",
    "d.TagAtoms(dm)\n",
    "d.FinishDrawing()\n",
    "svg = d.GetDrawingText()\n",
    "w.svg = svg"
   ]
  },
  {
   "cell_type": "code",
   "execution_count": null,
   "metadata": {},
   "outputs": [],
   "source": []
  }
 ],
 "metadata": {
  "_draft": {
   "nbviewer_url": "https://gist.github.com/b640cd77331a55f2179cd1dc2d7bbd8d"
  },
  "gist": {
   "data": {
    "description": "SVG Features.ipynb",
    "public": true
   },
   "id": "b640cd77331a55f2179cd1dc2d7bbd8d"
  },
  "kernelspec": {
   "display_name": "Python 3",
   "language": "python",
   "name": "python3"
  },
  "language_info": {
   "codemirror_mode": {
    "name": "ipython",
    "version": 3
   },
   "file_extension": ".py",
   "mimetype": "text/x-python",
   "name": "python",
   "nbconvert_exporter": "python",
   "pygments_lexer": "ipython3",
   "version": "3.7.4"
  }
 },
 "nbformat": 4,
 "nbformat_minor": 2
}
